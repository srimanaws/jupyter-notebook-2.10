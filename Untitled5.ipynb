{
 "cells": [
  {
   "cell_type": "code",
   "execution_count": 2,
   "id": "ef4fede8-2cc3-4059-a0fa-be8f699fba34",
   "metadata": {},
   "outputs": [
    {
     "name": "stdin",
     "output_type": "stream",
     "text": [
      "Enter first integer:  4\n",
      "Enter second integer:  5\n",
      "Enter third integer:  9\n"
     ]
    },
    {
     "name": "stdout",
     "output_type": "stream",
     "text": [
      "Sum: 18\n",
      "Average: 6.00\n",
      "Product: 180\n",
      "Smallest: 4\n",
      "Largest: 9\n"
     ]
    }
   ],
   "source": [
    "# 2.10 Arithmetic, Smallest and Largest by sriman\n",
    "number1 = int(input('Enter first integer: '))\n",
    "number2 = int(input('Enter second integer: '))\n",
    "number3 = int(input('Enter third integer: '))\n",
    "\n",
    "total = number1 + number2 + number3\n",
    "average = total / 3\n",
    "product = number1 * number2 * number3\n",
    "smallest = min(number1, number2, number3)\n",
    "largest = max(number1, number2, number3)\n",
    "\n",
    "print(f'Sum: {total}')\n",
    "print(f'Average: {average:.2f}')\n",
    "print(f'Product: {product}')\n",
    "print(f'Smallest: {smallest}')\n",
    "print(f'Largest: {largest}')\n"
   ]
  },
  {
   "cell_type": "code",
   "execution_count": null,
   "id": "9ca6524b-0713-43d8-9311-fcf97737f279",
   "metadata": {},
   "outputs": [],
   "source": []
  }
 ],
 "metadata": {
  "kernelspec": {
   "display_name": "Python 3 (ipykernel)",
   "language": "python",
   "name": "python3"
  },
  "language_info": {
   "codemirror_mode": {
    "name": "ipython",
    "version": 3
   },
   "file_extension": ".py",
   "mimetype": "text/x-python",
   "name": "python",
   "nbconvert_exporter": "python",
   "pygments_lexer": "ipython3",
   "version": "3.12.4"
  }
 },
 "nbformat": 4,
 "nbformat_minor": 5
}
